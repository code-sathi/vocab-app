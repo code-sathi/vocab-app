{
 "cells": [
  {
   "cell_type": "code",
   "execution_count": 1,
   "id": "cc696eeb-4686-429d-b121-ae27c52bff6e",
   "metadata": {
    "tags": []
   },
   "outputs": [],
   "source": [
    "import nltk"
   ]
  },
  {
   "cell_type": "code",
   "execution_count": 2,
   "id": "6f52d65d-6404-4186-8c74-e86de2f75955",
   "metadata": {
    "tags": []
   },
   "outputs": [],
   "source": [
    "# parsing a paragraph\n",
    "para = \"This is first. This is second. And this is third.\""
   ]
  },
  {
   "cell_type": "code",
   "execution_count": 3,
   "id": "84d51056-17f6-4c8c-b6ce-c2b2305a455d",
   "metadata": {
    "tags": []
   },
   "outputs": [],
   "source": [
    "sentences = nltk.sent_tokenize(para)"
   ]
  },
  {
   "cell_type": "code",
   "execution_count": 4,
   "id": "802e67bf-c1a7-4259-aae2-282cd20d609b",
   "metadata": {
    "tags": []
   },
   "outputs": [
    {
     "data": {
      "text/plain": [
       "['This is first.', 'This is second.', 'And this is third.']"
      ]
     },
     "execution_count": 4,
     "metadata": {},
     "output_type": "execute_result"
    }
   ],
   "source": [
    "sentences"
   ]
  },
  {
   "cell_type": "code",
   "execution_count": 6,
   "id": "2ab40680-7ae9-48ef-be65-03078b5a4c23",
   "metadata": {
    "tags": []
   },
   "outputs": [],
   "source": [
    "#parsing sentence into words/tokens\n",
    "words = nltk.word_tokenize(sentences[0])"
   ]
  },
  {
   "cell_type": "code",
   "execution_count": 7,
   "id": "8d04c9fd-d500-47a6-a0ed-939e08b7ed2d",
   "metadata": {
    "tags": []
   },
   "outputs": [
    {
     "data": {
      "text/plain": [
       "['This', 'is', 'first', '.']"
      ]
     },
     "execution_count": 7,
     "metadata": {},
     "output_type": "execute_result"
    }
   ],
   "source": [
    "words"
   ]
  },
  {
   "cell_type": "code",
   "execution_count": 8,
   "id": "13411ae2-7aa2-4799-91df-cc2443c709f8",
   "metadata": {
    "tags": []
   },
   "outputs": [],
   "source": [
    "# part of speech tagging\n",
    "pos_tagged = nltk.pos_tag(words)"
   ]
  },
  {
   "cell_type": "code",
   "execution_count": 9,
   "id": "36c2ca10-dff6-4fd1-a8ac-6e55353d3cef",
   "metadata": {
    "tags": []
   },
   "outputs": [
    {
     "data": {
      "text/plain": [
       "[('This', 'DT'), ('is', 'VBZ'), ('first', 'RB'), ('.', '.')]"
      ]
     },
     "execution_count": 9,
     "metadata": {},
     "output_type": "execute_result"
    }
   ],
   "source": [
    "pos_tagged"
   ]
  },
  {
   "cell_type": "raw",
   "id": "f0426270-3297-4828-b709-bf4074e5b1af",
   "metadata": {
    "tags": []
   },
   "source": [
    "Here is a list of POS tags (not exhaustive)\n",
    "CC: coordinating conjunction\n",
    "CD: cardinal digit\n",
    "DT: determiner\n",
    "EX: existential there\n",
    "FW: foreign word\n",
    "IN: preposition or subordinating conjunction\n",
    "JJ: adjective\n",
    "JJR: adjective, comparative\n",
    "JJS: adjective, superlative\n",
    "LS: list item marker\n",
    "MD: modal\n",
    "NN: noun, singular or mass\n",
    "NNS: noun, plural\n",
    "NNP: proper noun, singular\n",
    "NNPS: proper noun, plural\n",
    "PDT: predeterminer\n",
    "POS: possessive ending\n",
    "PRP: personal pronoun\n",
    "PRP$: possessive pronoun\n",
    "RB: adverb\n",
    "RBR: adverb, comparative\n",
    "RBS: adverb, superlative\n",
    "RP: particle\n",
    "SYM: symbol\n",
    "TO: to\n",
    "UH: interjection\n",
    "VB: verb, base form"
   ]
  },
  {
   "cell_type": "code",
   "execution_count": 13,
   "id": "acc239fb-5ea5-4763-afa7-22e84247dc7e",
   "metadata": {
    "tags": []
   },
   "outputs": [],
   "source": [
    "# visualizing pos tags\n",
    "tree = nltk.chunk.ne_chunk(pos_tagged)"
   ]
  },
  {
   "cell_type": "code",
   "execution_count": 14,
   "id": "e613fe5b-36ae-4841-b9a5-9eb05e6383b7",
   "metadata": {
    "tags": []
   },
   "outputs": [
    {
     "data": {
      "image/svg+xml": [
       "<svg baseProfile=\"full\" height=\"120px\" preserveAspectRatio=\"xMidYMid meet\" style=\"font-family: times, serif; font-weight:normal; font-style: normal; font-size: 16px;\" version=\"1.1\" viewBox=\"0,0,168.0,120.0\" width=\"168px\" xmlns=\"http://www.w3.org/2000/svg\" xmlns:ev=\"http://www.w3.org/2001/xml-events\" xmlns:xlink=\"http://www.w3.org/1999/xlink\"><defs /><svg width=\"100%\" x=\"0\" y=\"0em\"><defs /><text text-anchor=\"middle\" x=\"50%\" y=\"1em\">S</text></svg><svg width=\"28.5714%\" x=\"0%\" y=\"3em\"><defs /><svg width=\"100%\" x=\"0\" y=\"0em\"><defs /><text text-anchor=\"middle\" x=\"50%\" y=\"1em\">This</text></svg><svg width=\"100%\" x=\"0%\" y=\"3em\"><defs /><svg width=\"100%\" x=\"0\" y=\"0em\"><defs /><text text-anchor=\"middle\" x=\"50%\" y=\"1em\">DT</text></svg></svg><line stroke=\"black\" x1=\"50%\" x2=\"50%\" y1=\"1.2em\" y2=\"3em\" /></svg><line stroke=\"black\" x1=\"50%\" x2=\"14.2857%\" y1=\"1.2em\" y2=\"3em\" /><svg width=\"23.8095%\" x=\"28.5714%\" y=\"3em\"><defs /><svg width=\"100%\" x=\"0\" y=\"0em\"><defs /><text text-anchor=\"middle\" x=\"50%\" y=\"1em\">is</text></svg><svg width=\"100%\" x=\"0%\" y=\"3em\"><defs /><svg width=\"100%\" x=\"0\" y=\"0em\"><defs /><text text-anchor=\"middle\" x=\"50%\" y=\"1em\">VBZ</text></svg></svg><line stroke=\"black\" x1=\"50%\" x2=\"50%\" y1=\"1.2em\" y2=\"3em\" /></svg><line stroke=\"black\" x1=\"50%\" x2=\"40.4762%\" y1=\"1.2em\" y2=\"3em\" /><svg width=\"33.3333%\" x=\"52.381%\" y=\"3em\"><defs /><svg width=\"100%\" x=\"0\" y=\"0em\"><defs /><text text-anchor=\"middle\" x=\"50%\" y=\"1em\">first</text></svg><svg width=\"100%\" x=\"0%\" y=\"3em\"><defs /><svg width=\"100%\" x=\"0\" y=\"0em\"><defs /><text text-anchor=\"middle\" x=\"50%\" y=\"1em\">RB</text></svg></svg><line stroke=\"black\" x1=\"50%\" x2=\"50%\" y1=\"1.2em\" y2=\"3em\" /></svg><line stroke=\"black\" x1=\"50%\" x2=\"69.0476%\" y1=\"1.2em\" y2=\"3em\" /><svg width=\"14.2857%\" x=\"85.7143%\" y=\"3em\"><defs /><svg width=\"100%\" x=\"0\" y=\"0em\"><defs /><text text-anchor=\"middle\" x=\"50%\" y=\"1em\">.</text></svg><svg width=\"100%\" x=\"0%\" y=\"3em\"><defs /><svg width=\"100%\" x=\"0\" y=\"0em\"><defs /><text text-anchor=\"middle\" x=\"50%\" y=\"1em\">.</text></svg></svg><line stroke=\"black\" x1=\"50%\" x2=\"50%\" y1=\"1.2em\" y2=\"3em\" /></svg><line stroke=\"black\" x1=\"50%\" x2=\"92.8571%\" y1=\"1.2em\" y2=\"3em\" /></svg>"
      ],
      "text/plain": [
       "Tree('S', [('This', 'DT'), ('is', 'VBZ'), ('first', 'RB'), ('.', '.')])"
      ]
     },
     "execution_count": 14,
     "metadata": {},
     "output_type": "execute_result"
    }
   ],
   "source": [
    "tree"
   ]
  },
  {
   "cell_type": "code",
   "execution_count": null,
   "id": "22912d63-51aa-4a0b-adbb-78f2db6a60eb",
   "metadata": {},
   "outputs": [],
   "source": []
  }
 ],
 "metadata": {
  "kernelspec": {
   "display_name": "Python 3 (ipykernel)",
   "language": "python",
   "name": "python3"
  },
  "language_info": {
   "codemirror_mode": {
    "name": "ipython",
    "version": 3
   },
   "file_extension": ".py",
   "mimetype": "text/x-python",
   "name": "python",
   "nbconvert_exporter": "python",
   "pygments_lexer": "ipython3",
   "version": "3.9.16"
  }
 },
 "nbformat": 4,
 "nbformat_minor": 5
}
